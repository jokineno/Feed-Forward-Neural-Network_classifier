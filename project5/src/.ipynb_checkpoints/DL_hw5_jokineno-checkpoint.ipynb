{
 "cells": [
  {
   "cell_type": "code",
   "execution_count": 1,
   "metadata": {},
   "outputs": [],
   "source": [
    "import torch\n",
    "import torch.optim as optim\n",
    "import torch.utils.data\n",
    "import torch.backends.cudnn as cudnn\n",
    "import torchvision\n",
    "from torchvision import transforms as transforms\n",
    "import torch.nn as nn\n",
    "import torch.nn.functional as F\n",
    "import numpy as np\n",
    "import matplotlib.pyplot as plt\n",
    "import matplotlib.cm as cm\n",
    "\n",
    "from plotting import plot_weights"
   ]
  },
  {
   "cell_type": "code",
   "execution_count": 48,
   "metadata": {},
   "outputs": [],
   "source": [
    "#--- hyperparameters ---\n",
    "N_EPOCHS = 50\n",
    "BATCH_SIZE_TRAIN = 100\n",
    "BATCH_SIZE_TEST = 100\n",
    "LR = 0.001"
   ]
  },
  {
   "cell_type": "code",
   "execution_count": 49,
   "metadata": {},
   "outputs": [],
   "source": [
    "CLASSES = ('plane', 'car', 'bird', 'cat', 'deer', 'dog', 'frog', 'horse', 'ship', 'truck')\n",
    "NUM_CLASSES = 10"
   ]
  },
  {
   "cell_type": "code",
   "execution_count": 4,
   "metadata": {},
   "outputs": [
    {
     "name": "stdout",
     "output_type": "stream",
     "text": [
      "Downloading https://www.cs.toronto.edu/~kriz/cifar-10-python.tar.gz to ../data/cifar-10-python.tar.gz\n"
     ]
    },
    {
     "data": {
      "application/vnd.jupyter.widget-view+json": {
       "model_id": "1e0e1dc9e40547289e6072c2867fc7ec",
       "version_major": 2,
       "version_minor": 0
      },
      "text/plain": [
       "HBox(children=(IntProgress(value=1, bar_style='info', max=1), HTML(value='')))"
      ]
     },
     "metadata": {},
     "output_type": "display_data"
    },
    {
     "name": "stdout",
     "output_type": "stream",
     "text": [
      "Extracting ../data/cifar-10-python.tar.gz to ../data\n",
      "Files already downloaded and verified\n"
     ]
    }
   ],
   "source": [
    "# --- CIFAR initialization ---\n",
    "\n",
    "# We transform torchvision.datasets.CIFAR10 outputs to tensors\n",
    "# Plus, we add a random horizontal transformation to the training data\n",
    "train_transform = transforms.Compose([transforms.RandomHorizontalFlip(), transforms.ToTensor()])\n",
    "test_transform = transforms.Compose([transforms.ToTensor()])\n",
    "train_set = torchvision.datasets.CIFAR10(root='../data', train=True, download=True, transform=train_transform)\n",
    "test_set = torchvision.datasets.CIFAR10(root='../data', train=False, download=True, transform=test_transform)\n",
    "\n",
    "# Create Pytorch data loaders\n",
    "train_loader = torch.utils.data.DataLoader(dataset=train_set, batch_size=BATCH_SIZE_TRAIN, shuffle=True)\n",
    "test_loader = torch.utils.data.DataLoader(dataset=test_set, batch_size=BATCH_SIZE_TEST, shuffle=False)"
   ]
  },
  {
   "cell_type": "code",
   "execution_count": 44,
   "metadata": {},
   "outputs": [],
   "source": [
    "def imshow(img):\n",
    "    print(\"img\",img)\n",
    "    img = img / 2 + 0.5\n",
    "    print(\"img2\", img)\n",
    "    # unnormalize\n",
    "    npimg = img.numpy()\n",
    "    plt.imshow(np.transpose(npimg, (1, 2, 0)))\n",
    "    plt.show()"
   ]
  },
  {
   "cell_type": "code",
   "execution_count": 45,
   "metadata": {},
   "outputs": [
    {
     "name": "stdout",
     "output_type": "stream",
     "text": [
      "torch.Size([100, 3, 32, 32])\n",
      "tensor([2, 7, 7, 3, 9, 1, 8, 4, 4, 8, 6, 3, 7, 5, 7, 3, 3, 9, 5, 6, 9, 4, 4, 2,\n",
      "        6, 5, 1, 9, 6, 3, 8, 2, 1, 5, 4, 3, 3, 3, 5, 3, 8, 0, 6, 8, 0, 4, 6, 2,\n",
      "        5, 4, 5, 6, 3, 5, 5, 8, 0, 2, 0, 3, 0, 2, 5, 4, 8, 3, 1, 7, 8, 3, 6, 2,\n",
      "        5, 4, 0, 2, 8, 5, 7, 2, 3, 5, 6, 9, 1, 2, 5, 4, 6, 5, 6, 0, 0, 3, 5, 0,\n",
      "        9, 9, 3, 5])\n",
      "img tensor([[[0.7725, 0.7804, 0.7765,  ..., 0.7333, 0.7333, 0.7490],\n",
      "         [0.7804, 0.7882, 0.7843,  ..., 0.7490, 0.7451, 0.7608],\n",
      "         [0.7765, 0.7804, 0.7804,  ..., 0.7490, 0.7451, 0.7608],\n",
      "         ...,\n",
      "         [0.7882, 0.7882, 0.7647,  ..., 0.7686, 0.7686, 0.7216],\n",
      "         [0.7843, 0.7804, 0.7569,  ..., 0.7647, 0.7686, 0.7804],\n",
      "         [0.7843, 0.7725, 0.7451,  ..., 0.7412, 0.7373, 0.7569]],\n",
      "\n",
      "        [[0.7176, 0.7255, 0.7216,  ..., 0.6745, 0.6745, 0.6902],\n",
      "         [0.7255, 0.7333, 0.7294,  ..., 0.6902, 0.6863, 0.6980],\n",
      "         [0.7216, 0.7255, 0.7255,  ..., 0.6902, 0.6863, 0.7020],\n",
      "         ...,\n",
      "         [0.7216, 0.7216, 0.6980,  ..., 0.7098, 0.7137, 0.6627],\n",
      "         [0.7176, 0.7137, 0.6902,  ..., 0.7098, 0.7137, 0.7255],\n",
      "         [0.7176, 0.7059, 0.6824,  ..., 0.6902, 0.6863, 0.7020]],\n",
      "\n",
      "        [[0.6039, 0.6118, 0.6078,  ..., 0.5647, 0.5647, 0.5765],\n",
      "         [0.6118, 0.6196, 0.6157,  ..., 0.5725, 0.5725, 0.5843],\n",
      "         [0.6078, 0.6118, 0.6078,  ..., 0.5765, 0.5725, 0.5843],\n",
      "         ...,\n",
      "         [0.6118, 0.6118, 0.5882,  ..., 0.5765, 0.5804, 0.5255],\n",
      "         [0.6078, 0.6039, 0.5804,  ..., 0.5725, 0.5765, 0.5843],\n",
      "         [0.5961, 0.5922, 0.5725,  ..., 0.5647, 0.5608, 0.5765]]])\n",
      "img2 tensor([[[0.8863, 0.8902, 0.8882,  ..., 0.8667, 0.8667, 0.8745],\n",
      "         [0.8902, 0.8941, 0.8922,  ..., 0.8745, 0.8725, 0.8804],\n",
      "         [0.8882, 0.8902, 0.8902,  ..., 0.8745, 0.8725, 0.8804],\n",
      "         ...,\n",
      "         [0.8941, 0.8941, 0.8824,  ..., 0.8843, 0.8843, 0.8608],\n",
      "         [0.8922, 0.8902, 0.8784,  ..., 0.8824, 0.8843, 0.8902],\n",
      "         [0.8922, 0.8863, 0.8725,  ..., 0.8706, 0.8686, 0.8784]],\n",
      "\n",
      "        [[0.8588, 0.8627, 0.8608,  ..., 0.8373, 0.8373, 0.8451],\n",
      "         [0.8627, 0.8667, 0.8647,  ..., 0.8451, 0.8431, 0.8490],\n",
      "         [0.8608, 0.8627, 0.8627,  ..., 0.8451, 0.8431, 0.8510],\n",
      "         ...,\n",
      "         [0.8608, 0.8608, 0.8490,  ..., 0.8549, 0.8569, 0.8314],\n",
      "         [0.8588, 0.8569, 0.8451,  ..., 0.8549, 0.8569, 0.8627],\n",
      "         [0.8588, 0.8529, 0.8412,  ..., 0.8451, 0.8431, 0.8510]],\n",
      "\n",
      "        [[0.8020, 0.8059, 0.8039,  ..., 0.7824, 0.7824, 0.7882],\n",
      "         [0.8059, 0.8098, 0.8078,  ..., 0.7863, 0.7863, 0.7922],\n",
      "         [0.8039, 0.8059, 0.8039,  ..., 0.7882, 0.7863, 0.7922],\n",
      "         ...,\n",
      "         [0.8059, 0.8059, 0.7941,  ..., 0.7882, 0.7902, 0.7627],\n",
      "         [0.8039, 0.8020, 0.7902,  ..., 0.7863, 0.7882, 0.7922],\n",
      "         [0.7980, 0.7961, 0.7863,  ..., 0.7824, 0.7804, 0.7882]]])\n"
     ]
    },
    {
     "data": {
      "image/png": "[encoded data removed]",
      "text/plain": [
       "<Figure size 432x288 with 1 Axes>"
      ]
     },
     "metadata": {
      "needs_background": "light"
     },
     "output_type": "display_data"
    }
   ],
   "source": [
    "for (i,j) in train_loader:\n",
    "    print(i.shape) # 100 x 3 x 32 x 32\n",
    "    print(j)\n",
    "    kuva = i[0]\n",
    "    imshow(kuva)\n",
    "    break\n",
    "    \n",
    "# data is ok! "
   ]
  },
  {
   "cell_type": "code",
   "execution_count": 42,
   "metadata": {},
   "outputs": [],
   "source": []
  },
  {
   "cell_type": "code",
   "execution_count": null,
   "metadata": {},
   "outputs": [],
   "source": []
  },
  {
   "cell_type": "markdown",
   "metadata": {},
   "source": [
    "### Implementing CNN \n",
    "\n",
    "- The input:  BATCH SIZE TRAIN x NUM CHANNELS x WIDTH x HEIGHT,\n",
    "    - where NUM CHANNELS=3 (R-G-B channels), and WIDTH=HEIGHT=32 (pixels)"
   ]
  },
  {
   "cell_type": "markdown",
   "metadata": {},
   "source": [
    "- Please make sure your model includes at least two convolutional layers, followed by suitable non- linear functions and max pooling layers. Since there will be a rather large number of layers, please consider also to organize these layers into an torch.nn.Sequential module, which may result in cleaner code.\n"
   ]
  },
  {
   "cell_type": "code",
   "execution_count": 46,
   "metadata": {},
   "outputs": [],
   "source": [
    "#--- model ---\n",
    "class CNN(nn.Module):\n",
    "    def __init__(self, num_classes=NUM_CLASSES):\n",
    "        super(CNN, self).__init__()\n",
    "        # WRITE CODE HERE\n",
    "        \n",
    "        # convolution 1 \n",
    "        #non linear: relu, tanh, sigmoid\n",
    "        # max pooling\n",
    "        \n",
    "        # convolution 2\n",
    "        #non linear\n",
    "        #max pooling\n",
    "        \n",
    "        #esimerkissä input kuvat on 28*28\n",
    "        \n",
    "        self.layer1 = nn.Sequential(\n",
    "            nn.Conv2d(3, 32, kernel_size=5, stride=1, padding=2),\n",
    "            nn.ReLU(),\n",
    "            nn.MaxPool2d(kernel_size=2, stride=2))\n",
    "        self.layer2 = nn.Sequential(\n",
    "            nn.Conv2d(32, 64, kernel_size=5, stride=1, padding=2),\n",
    "            nn.ReLU(),\n",
    "            nn.MaxPool2d(kernel_size=2, stride=2))\n",
    "        self.drop_out = nn.Dropout()\n",
    "        self.fc1 = nn.Linear(8 * 8 * 64, 1000)\n",
    "        self.fc2 = nn.Linear(1000, 10)\n",
    "        \n",
    "        \n",
    "\n",
    "    def forward(self, x):\n",
    "        # WRITE CODE HERE\n",
    "        out = self.layer1(x)\n",
    "        out = self.layer2(out)\n",
    "        out = out.reshape(out.size(0), -1)\n",
    "        out = self.drop_out(out)\n",
    "        out = self.fc1(out)\n",
    "        out = self.fc2(out)\n",
    "        return out"
   ]
  },
  {
   "cell_type": "code",
   "execution_count": null,
   "metadata": {},
   "outputs": [],
   "source": []
  },
  {
   "cell_type": "code",
   "execution_count": 52,
   "metadata": {},
   "outputs": [
    {
     "ename": "NameError",
     "evalue": "name 'outputs' is not defined",
     "output_type": "error",
     "traceback": [
      "\u001b[0;31m---------------------------------------------------------------------------\u001b[0m",
      "\u001b[0;31mNameError\u001b[0m                                 Traceback (most recent call last)",
      "\u001b[0;32m<ipython-input-52-8f6829121f79>\u001b[0m in \u001b[0;36m<module>\u001b[0;34m\u001b[0m\n\u001b[1;32m     48\u001b[0m             \u001b[0mdata\u001b[0m\u001b[0;34m,\u001b[0m \u001b[0mtarget\u001b[0m \u001b[0;34m=\u001b[0m \u001b[0mdata\u001b[0m\u001b[0;34m.\u001b[0m\u001b[0mto\u001b[0m\u001b[0;34m(\u001b[0m\u001b[0mdevice\u001b[0m\u001b[0;34m)\u001b[0m\u001b[0;34m,\u001b[0m \u001b[0mtarget\u001b[0m\u001b[0;34m.\u001b[0m\u001b[0mto\u001b[0m\u001b[0;34m(\u001b[0m\u001b[0mdevice\u001b[0m\u001b[0;34m)\u001b[0m\u001b[0;34m\u001b[0m\u001b[0;34m\u001b[0m\u001b[0m\n\u001b[1;32m     49\u001b[0m             \u001b[0;31m# WRITE CODE HERE\u001b[0m\u001b[0;34m\u001b[0m\u001b[0;34m\u001b[0m\u001b[0;34m\u001b[0m\u001b[0m\n\u001b[0;32m---> 50\u001b[0;31m             \u001b[0m_\u001b[0m\u001b[0;34m,\u001b[0m \u001b[0mpredicted\u001b[0m \u001b[0;34m=\u001b[0m \u001b[0mtorch\u001b[0m\u001b[0;34m.\u001b[0m\u001b[0mmax\u001b[0m\u001b[0;34m(\u001b[0m\u001b[0moutputs\u001b[0m\u001b[0;34m.\u001b[0m\u001b[0mdata\u001b[0m\u001b[0;34m,\u001b[0m \u001b[0;36m1\u001b[0m\u001b[0;34m)\u001b[0m\u001b[0;34m\u001b[0m\u001b[0;34m\u001b[0m\u001b[0m\n\u001b[0m\u001b[1;32m     51\u001b[0m             \u001b[0mtotal\u001b[0m \u001b[0;34m+=\u001b[0m \u001b[0mlabels\u001b[0m\u001b[0;34m.\u001b[0m\u001b[0msize\u001b[0m\u001b[0;34m(\u001b[0m\u001b[0;36m0\u001b[0m\u001b[0;34m)\u001b[0m\u001b[0;34m\u001b[0m\u001b[0;34m\u001b[0m\u001b[0m\n\u001b[1;32m     52\u001b[0m             \u001b[0mcorrect\u001b[0m \u001b[0;34m+=\u001b[0m \u001b[0;34m(\u001b[0m\u001b[0mpredicted\u001b[0m \u001b[0;34m==\u001b[0m \u001b[0mlabels\u001b[0m\u001b[0;34m)\u001b[0m\u001b[0;34m.\u001b[0m\u001b[0msum\u001b[0m\u001b[0;34m(\u001b[0m\u001b[0;34m)\u001b[0m\u001b[0;34m\u001b[0m\u001b[0;34m\u001b[0m\u001b[0m\n",
      "\u001b[0;31mNameError\u001b[0m: name 'outputs' is not defined"
     ]
    }
   ],
   "source": [
    "#--- set up ---\n",
    "if __name__=='__main__':\n",
    "\n",
    "    if torch.cuda.is_available():\n",
    "        device = torch.device('cuda')\n",
    "    else:\n",
    "        device = torch.device('cpu')\n",
    "\n",
    "    model = CNN().to(device)\n",
    "\n",
    "    # WRITE CODE HERE\n",
    "    optimizer = torch.optim.SGD(model.parameters(), lr=LR)\n",
    "    loss_function = nn.CrossEntropyLoss()\n",
    "\n",
    "\n",
    "    #--- training ---\n",
    "    for epoch in range(N_EPOCHS):\n",
    "        train_loss = 0\n",
    "        train_correct = 0\n",
    "        total = 0\n",
    "        for batch_num, (data, target) in enumerate(train_loader):\n",
    "            data, target = data.to(device), target.to(device)\n",
    "            # WRITE CODE HERE\n",
    "            print(\"batch_num:\" batch_num)\n",
    "            print(\"\\n \\n\")\n",
    "            print(\"Data:\", data)\n",
    "            print(\"\\n \\n\")\n",
    "            print(\"target:\",target)\n",
    "            print(\"\\n \\n\")\n",
    "            \n",
    "            optimizer.zero_grad()\n",
    "            \n",
    "            output = model(data)\n",
    "            break\n",
    "            loss = loss_function(output, target)\n",
    "\n",
    "            loss.backward()\n",
    "            optimizer.step()\n",
    "            \n",
    "            train_loss += loss\n",
    "            total += BATCH_SIZE_TRAIN\n",
    "\n",
    "            print('Epoch %d - Batch %d/%d: Loss: %.4f | Train Acc: %.3f%% (%d/%d)' % (epoch, batch_num, len(train_loader), train_loss / (batch_num + 1), 100. * train_correct / total, train_correct, total))\n",
    "    break\n",
    "\n",
    "    #--- test ---\n",
    "    test_loss = 0\n",
    "    test_correct = 0\n",
    "    total = 0\n",
    "\n",
    "    with torch.no_grad():\n",
    "        for batch_num, (data, target) in enumerate(test_loader):\n",
    "            data, target = data.to(device), target.to(device)\n",
    "            # WRITE CODE HERE\n",
    "            _, predicted = torch.max(outputs.data, 1)\n",
    "            total += labels.size(0)\n",
    "            correct += (predicted == labels).sum()\n",
    "\n",
    "            print('Evaluating: Batch %d/%d: Loss: %.4f | Test Acc: %.3f%% (%d/%d)' % (batch_num, len(test_loader), test_loss / (batch_num + 1), 100. * test_correct / total, test_correct, total))\n",
    "            \n",
    "\n",
    "    # WRITE CODE HERE\n",
    "    #visualize weights for the first conv layer\n",
    "    conv_layer = None\n",
    "    plot_weights(conv_layer.cpu())"
   ]
  },
  {
   "cell_type": "code",
   "execution_count": null,
   "metadata": {},
   "outputs": [],
   "source": []
  }
 ],
 "metadata": {
  "kernelspec": {
   "display_name": "Python 3",
   "language": "python",
   "name": "python3"
  },
  "language_info": {
   "codemirror_mode": {
    "name": "ipython",
    "version": 3
   },
   "file_extension": ".py",
   "mimetype": "text/x-python",
   "name": "python",
   "nbconvert_exporter": "python",
   "pygments_lexer": "ipython3",
   "version": "3.7.4"
  }
 },
 "nbformat": 4,
 "nbformat_minor": 2
}
